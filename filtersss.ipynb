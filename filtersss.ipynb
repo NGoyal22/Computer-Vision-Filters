{
 "cells": [
  {
   "cell_type": "code",
   "execution_count": 1,
   "id": "51773009",
   "metadata": {},
   "outputs": [
    {
     "data": {
      "text/plain": [
       "True"
      ]
     },
     "execution_count": 1,
     "metadata": {},
     "output_type": "execute_result"
    }
   ],
   "source": [
    "import cv2\n",
    "\n",
    "# Load the image\n",
    "img = cv2.imread('./images/photo.png')\n",
    "\n",
    "# Apply the filter\n",
    "filtered_img = cv2.GaussianBlur(img, (5, 5), 0)\n",
    "\n",
    "# Superimpose the filtered image on the original image\n",
    "alpha = 0.5  # Transparency factor\n",
    "output_img = cv2.addWeighted(img, alpha, filtered_img, 1 - alpha, 0)\n",
    "\n",
    "# Save the output image\n",
    "cv2.imwrite('GaussianBlur.png', output_img)\n"
   ]
  },
  {
   "cell_type": "code",
   "execution_count": 2,
   "id": "b66595c7",
   "metadata": {},
   "outputs": [
    {
     "data": {
      "text/plain": [
       "True"
      ]
     },
     "execution_count": 2,
     "metadata": {},
     "output_type": "execute_result"
    }
   ],
   "source": [
    "# Apply the filter\n",
    "filtere_img = cv2.medianBlur(img, 5)\n",
    "\n",
    "# Superimpose the filtered image on the original image\n",
    "alpha = 0.5  # Transparency factor\n",
    "output_img = cv2.addWeighted(img, alpha, filtere_img, 1 - alpha, 0)\n",
    "\n",
    "# Save the filtered image\n",
    "cv2.imwrite('medianBlur.png', output_img)"
   ]
  },
  {
   "cell_type": "code",
   "execution_count": 5,
   "id": "76298e91",
   "metadata": {},
   "outputs": [
    {
     "data": {
      "text/plain": [
       "True"
      ]
     },
     "execution_count": 5,
     "metadata": {},
     "output_type": "execute_result"
    }
   ],
   "source": [
    "# Apply the filter\n",
    "filter_img = cv2.bilateralFilter(img, 9, 75, 75)\n",
    "\n",
    "# Superimpose the filtered image on the original image\n",
    "alpha = 0.5  # Transparency factor\n",
    "output_img = cv2.addWeighted(img, alpha, filter_img, 1 - alpha, 0)\n",
    "\n",
    "# Save the filtered image\n",
    "cv2.imwrite('bilateralFilter.png', output_img)"
   ]
  },
  {
   "cell_type": "code",
   "execution_count": 3,
   "id": "7309d19f",
   "metadata": {},
   "outputs": [
    {
     "data": {
      "text/plain": [
       "True"
      ]
     },
     "execution_count": 3,
     "metadata": {},
     "output_type": "execute_result"
    }
   ],
   "source": [
    "# Apply the filter\n",
    "grad_x = cv2.Sobel(img, cv2.CV_64F, 1, 0, ksize=3)\n",
    "grad_y = cv2.Sobel(img, cv2.CV_64F, 0, 1, ksize=3)\n",
    "abs_grad_x = cv2.convertScaleAbs(grad_x)\n",
    "abs_grad_y = cv2.convertScaleAbs(grad_y)\n",
    "filte_img = cv2.addWeighted(abs_grad_x, 0.5, abs_grad_y, 0.5, 0)\n",
    "\n",
    "# Superimpose the filtered image on the original image\n",
    "alpha = 0.5  # Transparency factor\n",
    "output_img = cv2.addWeighted(img, alpha, filte_img, 1 - alpha, 0)\n",
    "\n",
    "# Save the filtered image\n",
    "cv2.imwrite('Sobel.png', output_img)"
   ]
  },
  {
   "cell_type": "code",
   "execution_count": 4,
   "id": "f314499e",
   "metadata": {},
   "outputs": [
    {
     "data": {
      "text/plain": [
       "True"
      ]
     },
     "execution_count": 4,
     "metadata": {},
     "output_type": "execute_result"
    }
   ],
   "source": [
    "import numpy as np\n",
    "# Convert the image to grayscale\n",
    "gray = cv2.cvtColor(img, cv2.COLOR_BGR2GRAY)\n",
    "\n",
    "# Apply the Canny edge detection filter\n",
    "edges = cv2.Canny(gray, 100, 200)\n",
    "\n",
    "# Create a mask for the edges\n",
    "mask = np.zeros_like(img)\n",
    "mask[edges != 0] = 255\n",
    "\n",
    "# Apply the mask to the original image\n",
    "masked_img = cv2.bitwise_and(img, mask)\n",
    "\n",
    "# Superimpose the masked image on the original image\n",
    "output_img = cv2.addWeighted(img, 1, masked_img, 0.5, 0)\n",
    "\n",
    "# Save the filtered image\n",
    "cv2.imwrite('edgedetection.png', output_img)\n"
   ]
  },
  {
   "cell_type": "code",
   "execution_count": 5,
   "id": "787994e9",
   "metadata": {},
   "outputs": [
    {
     "data": {
      "text/plain": [
       "True"
      ]
     },
     "execution_count": 5,
     "metadata": {},
     "output_type": "execute_result"
    }
   ],
   "source": [
    "# Convert the image to HSV color space\n",
    "hsv = cv2.cvtColor(img, cv2.COLOR_BGR2HSV)\n",
    "\n",
    "# Define the range of colors to keep\n",
    "lower_range = np.array([0, 50, 50])\n",
    "upper_range = np.array([10, 255, 255])\n",
    "\n",
    "# Create a mask for the colors within the specified range\n",
    "mask = cv2.inRange(hsv, lower_range, upper_range)\n",
    "\n",
    "# Apply the mask to the original image\n",
    "masked_img = cv2.bitwise_and(img, img, mask=mask)\n",
    "\n",
    "# Superimpose the masked image on the original image\n",
    "output_img = cv2.addWeighted(img, 1, masked_img, 0.5, 0)\n",
    "\n",
    "# Save the filtered image\n",
    "cv2.imwrite('COLOR_BGR2HSV.png', output_img)\n"
   ]
  },
  {
   "cell_type": "code",
   "execution_count": 6,
   "id": "8e0a3864",
   "metadata": {},
   "outputs": [
    {
     "data": {
      "text/plain": [
       "True"
      ]
     },
     "execution_count": 6,
     "metadata": {},
     "output_type": "execute_result"
    }
   ],
   "source": [
    "# Define the kernel for the sharpen filter\n",
    "kernel = np.array([[-1,-1,-1], [-1,9,-1], [-1,-1,-1]])\n",
    "\n",
    "# Apply the sharpen filter\n",
    "sharpened_img = cv2.filter2D(img, -1, kernel)\n",
    "\n",
    "# Superimpose the sharpened image on the original image\n",
    "output_img = cv2.addWeighted(img, 1, sharpened_img, 0.5, 0)\n",
    "\n",
    "# Save the filtered image\n",
    "cv2.imwrite('sharpenfilter.png', output_img)\n"
   ]
  },
  {
   "cell_type": "code",
   "execution_count": 7,
   "id": "47d5becb",
   "metadata": {},
   "outputs": [
    {
     "data": {
      "text/plain": [
       "True"
      ]
     },
     "execution_count": 7,
     "metadata": {},
     "output_type": "execute_result"
    }
   ],
   "source": [
    "# Convert the image to grayscale\n",
    "gray = cv2.cvtColor(img, cv2.COLOR_BGR2GRAY)\n",
    "\n",
    "# Apply a median blur filter to smooth out the image\n",
    "blurred_img = cv2.medianBlur(gray, 7)\n",
    "\n",
    "# Apply the bilateral filter to create a cartoon-like effect\n",
    "cartoon_img = cv2.bilateralFilter(img, 9, 75, 75)\n",
    "\n",
    "# Superimpose the cartoon image on the original image\n",
    "output_img = cv2.bitwise_and(cartoon_img, cartoon_img, mask=blurred_img)\n",
    "\n",
    "# Save the filtered image\n",
    "cv2.imwrite('cartoonfilter.png', output_img)\n"
   ]
  },
  {
   "cell_type": "code",
   "execution_count": 8,
   "id": "f323bcd2",
   "metadata": {},
   "outputs": [
    {
     "data": {
      "text/plain": [
       "True"
      ]
     },
     "execution_count": 8,
     "metadata": {},
     "output_type": "execute_result"
    }
   ],
   "source": [
    "# Create a circular mask\n",
    "mask = np.zeros_like(img)\n",
    "rows, cols, _ = mask.shape\n",
    "center = (cols//2, rows//2)\n",
    "radius = cols//2\n",
    "cv2.circle(mask, center, radius, (255, 255, 255), -1, cv2.LINE_AA)\n",
    "\n",
    "# Apply the vignette filter\n",
    "vignette = cv2.GaussianBlur(img, (0, 0), sigmaX=70)\n",
    "vignette = cv2.addWeighted(img, 1.2, vignette, -0.2, 0)\n",
    "\n",
    "# Superimpose the vignette on the original image\n",
    "output_img = cv2.bitwise_and(vignette, mask)\n",
    "\n",
    "# Save the filtered image\n",
    "cv2.imwrite('vignette.png', output_img)\n"
   ]
  },
  {
   "cell_type": "code",
   "execution_count": 9,
   "id": "d67c2429",
   "metadata": {},
   "outputs": [
    {
     "data": {
      "text/plain": [
       "True"
      ]
     },
     "execution_count": 9,
     "metadata": {},
     "output_type": "execute_result"
    }
   ],
   "source": [
    "# Convert the image to HSV color space\n",
    "hsv = cv2.cvtColor(img, cv2.COLOR_BGR2HSV)\n",
    "\n",
    "# Increase the saturation of the image\n",
    "hsv[...,1] += 50\n",
    "\n",
    "# Convert the image back to BGR color space\n",
    "output_img = cv2.cvtColor(hsv, cv2.COLOR_HSV2BGR)\n",
    "\n",
    "# Save the filtered image\n",
    "cv2.imwrite('saturationfilter.png', output_img)\n"
   ]
  },
  {
   "cell_type": "code",
   "execution_count": null,
   "id": "dbc1c33e",
   "metadata": {},
   "outputs": [],
   "source": []
  }
 ],
 "metadata": {
  "kernelspec": {
   "display_name": "Python 3",
   "language": "python",
   "name": "python3"
  },
  "language_info": {
   "codemirror_mode": {
    "name": "ipython",
    "version": 3
   },
   "file_extension": ".py",
   "mimetype": "text/x-python",
   "name": "python",
   "nbconvert_exporter": "python",
   "pygments_lexer": "ipython3",
   "version": "3.10.7"
  },
  "vscode": {
   "interpreter": {
    "hash": "aee8b7b246df8f9039afb4144a1f6fd8d2ca17a180786b69acc140d282b71a49"
   }
  }
 },
 "nbformat": 4,
 "nbformat_minor": 5
}
